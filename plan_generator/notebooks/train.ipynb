{
 "cells": [
  {
   "cell_type": "code",
   "execution_count": 1,
   "metadata": {},
   "outputs": [],
   "source": [
    "import os\n",
    "import sys\n",
    " \n",
    "if os.path.abspath(os.path.join(os.getcwd(), \"../../\")) not in sys.path:\n",
    "    sys.path.append(os.path.abspath(os.path.join(os.getcwd(), \"../../\")))\n",
    "    \n",
    "from plan_generator.src.config import Configuration\n",
    "from plan_generator.src.models import PlanGenerator\n",
    "from plan_generator.src.data import PlanDataset\n",
    "from plan_generator.src.trainer import PlanGeneratorTrainer"
   ]
  },
  {
   "cell_type": "code",
   "execution_count": null,
   "metadata": {},
   "outputs": [],
   "source": [
    "configuration = Configuration()\n",
    "\n",
    "plan_dataset = PlanDataset(configuration=configuration)\n",
    "plan_generator = PlanGenerator(configuration=configuration)\n",
    "\n",
    "plan_generator_trainer = PlanGeneratorTrainer(\n",
    "    configuration=configuration,\n",
    "    plan_generator=plan_generator,\n",
    "    plan_dataset=plan_dataset,\n",
    "    train_loader_subset_count=20,\n",
    "    existing_log_dir=None\n",
    ")\n",
    "\n",
    "plan_generator_trainer.fit()"
   ]
  }
 ],
 "metadata": {
  "kernelspec": {
   "display_name": "Python 3",
   "language": "python",
   "name": "python3"
  },
  "language_info": {
   "codemirror_mode": {
    "name": "ipython",
    "version": 3
   },
   "file_extension": ".py",
   "mimetype": "text/x-python",
   "name": "python",
   "nbconvert_exporter": "python",
   "pygments_lexer": "ipython3",
   "version": "3.10.12"
  }
 },
 "nbformat": 4,
 "nbformat_minor": 2
}
