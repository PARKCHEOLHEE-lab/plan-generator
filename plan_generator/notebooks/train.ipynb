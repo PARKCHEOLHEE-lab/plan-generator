{
 "cells": [
  {
   "cell_type": "code",
   "execution_count": 1,
   "metadata": {},
   "outputs": [],
   "source": [
    "import os\n",
    "import sys\n",
    "\n",
    "os.environ[\"CUDA_VISIBLE_DEVICES\"] = \"0\"\n",
    " \n",
    "if os.path.abspath(os.path.join(os.getcwd(), \"../../\")) not in sys.path:\n",
    "    sys.path.append(os.path.abspath(os.path.join(os.getcwd(), \"../../\")))\n",
    "    \n",
    "from plan_generator.src.config import Configuration\n",
    "from plan_generator.src.models import PlanGenerator\n",
    "from plan_generator.src.data import PlanDataset\n",
    "from plan_generator.src.trainer import PlanGeneratorTrainer"
   ]
  },
  {
   "cell_type": "code",
   "execution_count": 2,
   "metadata": {},
   "outputs": [
    {
     "name": "stdout",
     "output_type": "stream",
     "text": [
      "CUDA status\n",
      "  torch.cuda.is_available(): True\n",
      "  DEVICE: cuda \n",
      "\n",
      "Seeds status:\n",
      "  Seeds set for torch        : 777\n",
      "  Seeds set for torch on GPU : 777\n",
      "  Seeds set for numpy        : 777\n",
      "  Seeds set for random       : 777 \n",
      "\n"
     ]
    },
    {
     "name": "stderr",
     "output_type": "stream",
     "text": [
      "/usr/local/lib/python3.10/dist-packages/torch/utils/data/dataset.py:444: UserWarning: Length of split at index 1 is 0. This might result in an empty dataset.\n",
      "  warnings.warn(f\"Length of split at index {i} is 0. \"\n",
      "/usr/local/lib/python3.10/dist-packages/torch/utils/data/dataset.py:444: UserWarning: Length of split at index 2 is 0. This might result in an empty dataset.\n",
      "  warnings.warn(f\"Length of split at index {i} is 0. \"\n",
      "/usr/local/lib/python3.10/dist-packages/tqdm/auto.py:21: TqdmWarning: IProgress not found. Please update jupyter and ipywidgets. See https://ipywidgets.readthedocs.io/en/stable/user_install.html\n",
      "  from .autonotebook import tqdm as notebook_tqdm\n"
     ]
    },
    {
     "name": "stdout",
     "output_type": "stream",
     "text": [
      "\n",
      "                train_loader_subset_index: 0/0\n",
      "                validation_loader_subset_index: 0/0\n",
      "                \n"
     ]
    },
    {
     "name": "stderr",
     "output_type": "stream",
     "text": [
      "training...: 100%|██████████| 5049/5049 [34:09<00:00,  2.48it/s][W CudaIPCTypes.cpp:16] Producer process has been terminated before all shared CUDA tensors released. See Note [Sharing CUDA tensors]\n",
      "training...: 100%|██████████| 5049/5049 [34:09<00:00,  2.46it/s]\n"
     ]
    },
    {
     "name": "stdout",
     "output_type": "stream",
     "text": [
      "\n",
      "                    wall_generator_loss_avg_train: 0.005444551037543687\n",
      "                    room_allocator_loss_avg_train: 0.017724969889876405\n",
      "                    wall_generator_loss_avg_validation: inf\n",
      "                    room_allocator_loss_avg_validation: inf\n",
      "                    \n"
     ]
    },
    {
     "ename": "RuntimeError",
     "evalue": "The expanded size of the tensor (256) must match the existing size (0) at non-singleton dimension 3.  Target sizes: [0, 1, 256, 256].  Tensor sizes: [0]",
     "output_type": "error",
     "traceback": [
      "\u001b[0;31m---------------------------------------------------------------------------\u001b[0m",
      "\u001b[0;31mRuntimeError\u001b[0m                              Traceback (most recent call last)",
      "Cell \u001b[0;32mIn[2], line 17\u001b[0m\n\u001b[1;32m      8\u001b[0m plan_generator \u001b[38;5;241m=\u001b[39m PlanGenerator(configuration\u001b[38;5;241m=\u001b[39mconfiguration)\n\u001b[1;32m     10\u001b[0m plan_generator_trainer \u001b[38;5;241m=\u001b[39m PlanGeneratorTrainer(\n\u001b[1;32m     11\u001b[0m     configuration\u001b[38;5;241m=\u001b[39mconfiguration,\n\u001b[1;32m     12\u001b[0m     plan_generator\u001b[38;5;241m=\u001b[39mplan_generator,\n\u001b[1;32m     13\u001b[0m     plan_dataset\u001b[38;5;241m=\u001b[39mplan_dataset,\n\u001b[1;32m     14\u001b[0m     validating\u001b[38;5;241m=\u001b[39m\u001b[38;5;28;01mFalse\u001b[39;00m,\n\u001b[1;32m     15\u001b[0m )\n\u001b[0;32m---> 17\u001b[0m \u001b[43mplan_generator_trainer\u001b[49m\u001b[38;5;241;43m.\u001b[39;49m\u001b[43mfit\u001b[49m\u001b[43m(\u001b[49m\u001b[43m)\u001b[49m\n",
      "File \u001b[0;32m~/plan-generator/plan_generator/src/trainer.py:769\u001b[0m, in \u001b[0;36mfit\u001b[0;34m(self)\u001b[0m\n\u001b[1;32m    762\u001b[0m     torch\u001b[38;5;241m.\u001b[39msave(\u001b[38;5;28mself\u001b[39m\u001b[38;5;241m.\u001b[39mstates, os\u001b[38;5;241m.\u001b[39mpath\u001b[38;5;241m.\u001b[39mjoin(\u001b[38;5;28mself\u001b[39m\u001b[38;5;241m.\u001b[39mlog_dir, \u001b[38;5;28mself\u001b[39m\u001b[38;5;241m.\u001b[39mconfiguration\u001b[38;5;241m.\u001b[39mSTATES_PT))\n\u001b[1;32m    764\u001b[0m \u001b[38;5;66;03m# Log\u001b[39;00m\n\u001b[1;32m    765\u001b[0m \u001b[38;5;28mself\u001b[39m\u001b[38;5;241m.\u001b[39m_write(\n\u001b[1;32m    766\u001b[0m     epoch,\n\u001b[1;32m    767\u001b[0m     \u001b[38;5;28mself\u001b[39m\u001b[38;5;241m.\u001b[39mconfiguration,\n\u001b[1;32m    768\u001b[0m     \u001b[38;5;28mself\u001b[39m\u001b[38;5;241m.\u001b[39mplan_generator,\n\u001b[0;32m--> 769\u001b[0m     \u001b[38;5;28mself\u001b[39m\u001b[38;5;241m.\u001b[39msummary_writer,\n\u001b[1;32m    770\u001b[0m     \u001b[38;5;28mself\u001b[39m\u001b[38;5;241m.\u001b[39mtrain_loader,\n\u001b[1;32m    771\u001b[0m     \u001b[38;5;28mself\u001b[39m\u001b[38;5;241m.\u001b[39mvalidation_loader,\n\u001b[1;32m    772\u001b[0m     wall_generator_loss_avg_train,\n\u001b[1;32m    773\u001b[0m     room_allocator_loss_avg_train,\n\u001b[1;32m    774\u001b[0m     wall_generator_loss_avg_validation,\n\u001b[1;32m    775\u001b[0m     room_allocator_loss_avg_validation,\n\u001b[1;32m    776\u001b[0m )\n\u001b[1;32m    778\u001b[0m clear_output(wait\u001b[38;5;241m=\u001b[39m\u001b[38;5;28;01mTrue\u001b[39;00m)\n",
      "File \u001b[0;32m/usr/local/lib/python3.10/dist-packages/torch/utils/_contextlib.py:115\u001b[0m, in \u001b[0;36mcontext_decorator.<locals>.decorate_context\u001b[0;34m(*args, **kwargs)\u001b[0m\n\u001b[1;32m    112\u001b[0m \u001b[38;5;129m@functools\u001b[39m\u001b[38;5;241m.\u001b[39mwraps(func)\n\u001b[1;32m    113\u001b[0m \u001b[38;5;28;01mdef\u001b[39;00m \u001b[38;5;21mdecorate_context\u001b[39m(\u001b[38;5;241m*\u001b[39margs, \u001b[38;5;241m*\u001b[39m\u001b[38;5;241m*\u001b[39mkwargs):\n\u001b[1;32m    114\u001b[0m     \u001b[38;5;28;01mwith\u001b[39;00m ctx_factory():\n\u001b[0;32m--> 115\u001b[0m         \u001b[38;5;28;01mreturn\u001b[39;00m \u001b[43mfunc\u001b[49m\u001b[43m(\u001b[49m\u001b[38;5;241;43m*\u001b[39;49m\u001b[43margs\u001b[49m\u001b[43m,\u001b[49m\u001b[43m \u001b[49m\u001b[38;5;241;43m*\u001b[39;49m\u001b[38;5;241;43m*\u001b[39;49m\u001b[43mkwargs\u001b[49m\u001b[43m)\u001b[49m\n",
      "File \u001b[0;32m~/plan-generator/plan_generator/src/trainer.py:471\u001b[0m, in \u001b[0;36m_write\u001b[0;34m(self, epoch, configuration, plan_generator, summary_writer, train_loader, validation_loader, wall_generator_loss_avg_train, room_allocator_loss_avg_train, wall_generator_loss_avg_validation, room_allocator_loss_avg_validation, num_to_visualize)\u001b[0m\n\u001b[1;32m    468\u001b[0m     ax\u001b[38;5;241m.\u001b[39maxis(\u001b[38;5;124m\"\u001b[39m\u001b[38;5;124moff\u001b[39m\u001b[38;5;124m\"\u001b[39m)\n\u001b[1;32m    470\u001b[0m generated_walls_images, allocated_rooms_images \u001b[38;5;241m=\u001b[39m inferrer\u001b[38;5;241m.\u001b[39minfer(floor_batch)\n\u001b[0;32m--> 471\u001b[0m \u001b[38;5;28;01mfor\u001b[39;00m idx, (generated_wall_image, allocated_room_image) \u001b[38;5;129;01min\u001b[39;00m \u001b[38;5;28menumerate\u001b[39m(\n\u001b[1;32m    472\u001b[0m     \u001b[38;5;28mzip\u001b[39m(generated_walls_images, allocated_rooms_images)\n\u001b[1;32m    473\u001b[0m ):\n\u001b[1;32m    474\u001b[0m     axes[\u001b[38;5;241m0\u001b[39m][idx]\u001b[38;5;241m.\u001b[39mimshow(generated_wall_image, cmap\u001b[38;5;241m=\u001b[39m\u001b[38;5;124m\"\u001b[39m\u001b[38;5;124mgray\u001b[39m\u001b[38;5;124m\"\u001b[39m)\n\u001b[1;32m    475\u001b[0m     axes[\u001b[38;5;241m0\u001b[39m][idx]\u001b[38;5;241m.\u001b[39mset_title(samples[idx])\n",
      "File \u001b[0;32m/usr/local/lib/python3.10/dist-packages/torch/utils/_contextlib.py:115\u001b[0m, in \u001b[0;36mcontext_decorator.<locals>.decorate_context\u001b[0;34m(*args, **kwargs)\u001b[0m\n\u001b[1;32m    112\u001b[0m \u001b[38;5;129m@functools\u001b[39m\u001b[38;5;241m.\u001b[39mwraps(func)\n\u001b[1;32m    113\u001b[0m \u001b[38;5;28;01mdef\u001b[39;00m \u001b[38;5;21mdecorate_context\u001b[39m(\u001b[38;5;241m*\u001b[39margs, \u001b[38;5;241m*\u001b[39m\u001b[38;5;241m*\u001b[39mkwargs):\n\u001b[1;32m    114\u001b[0m     \u001b[38;5;28;01mwith\u001b[39;00m ctx_factory():\n\u001b[0;32m--> 115\u001b[0m         \u001b[38;5;28;01mreturn\u001b[39;00m \u001b[43mfunc\u001b[49m\u001b[43m(\u001b[49m\u001b[38;5;241;43m*\u001b[39;49m\u001b[43margs\u001b[49m\u001b[43m,\u001b[49m\u001b[43m \u001b[49m\u001b[38;5;241;43m*\u001b[39;49m\u001b[38;5;241;43m*\u001b[39;49m\u001b[43mkwargs\u001b[49m\u001b[43m)\u001b[49m\n",
      "File \u001b[0;32m~/plan-generator/plan_generator/src/models.py:328\u001b[0m, in \u001b[0;36mPlanGenerator.infer\u001b[0;34m(self, floor_batch, masking, buffer, pil)\u001b[0m\n\u001b[1;32m    325\u001b[0m allocated_rooms \u001b[38;5;241m=\u001b[39m \u001b[38;5;28mself\u001b[39m\u001b[38;5;241m.\u001b[39mroom_allocator(generated_walls)\n\u001b[1;32m    327\u001b[0m \u001b[38;5;28;01mif\u001b[39;00m masking:\n\u001b[0;32m--> 328\u001b[0m     generated_walls \u001b[38;5;241m=\u001b[39m \u001b[38;5;28;43mself\u001b[39;49m\u001b[38;5;241;43m.\u001b[39;49m\u001b[43mmask\u001b[49m\u001b[43m(\u001b[49m\u001b[43mgenerated_walls\u001b[49m\u001b[43m,\u001b[49m\u001b[43m \u001b[49m\u001b[43mfloor_batch\u001b[49m\u001b[43m)\u001b[49m\n\u001b[1;32m    329\u001b[0m     allocated_rooms \u001b[38;5;241m=\u001b[39m \u001b[38;5;28mself\u001b[39m\u001b[38;5;241m.\u001b[39mmask(allocated_rooms, floor_batch)\n\u001b[1;32m    331\u001b[0m generated_walls_inferred \u001b[38;5;241m=\u001b[39m (generated_walls\u001b[38;5;241m.\u001b[39mdetach()\u001b[38;5;241m.\u001b[39mcpu()\u001b[38;5;241m.\u001b[39mnumpy() \u001b[38;5;241m>\u001b[39m \u001b[38;5;241m0.5\u001b[39m)\u001b[38;5;241m.\u001b[39mastype(\u001b[38;5;28mint\u001b[39m)\n",
      "File \u001b[0;32m~/plan-generator/plan_generator/src/models.py:278\u001b[0m, in \u001b[0;36mPlanGenerator.mask\u001b[0;34m(self, generated_batch, floor_batch)\u001b[0m\n\u001b[1;32m    275\u001b[0m masked \u001b[38;5;241m=\u001b[39m generated_batch\u001b[38;5;241m.\u001b[39mclone()\n\u001b[1;32m    277\u001b[0m \u001b[38;5;28;01mif\u001b[39;00m generated_batch\u001b[38;5;241m.\u001b[39mshape \u001b[38;5;241m!=\u001b[39m floor_batch\u001b[38;5;241m.\u001b[39mshape:\n\u001b[0;32m--> 278\u001b[0m     masked[\u001b[43mfloor_batch\u001b[49m\u001b[38;5;241;43m.\u001b[39;49m\u001b[43mexpand_as\u001b[49m\u001b[43m(\u001b[49m\u001b[43mmasked\u001b[49m\u001b[43m)\u001b[49m \u001b[38;5;241m==\u001b[39m \u001b[38;5;241m0\u001b[39m] \u001b[38;5;241m=\u001b[39m \u001b[38;5;241m0\u001b[39m\n\u001b[1;32m    280\u001b[0m \u001b[38;5;28;01melse\u001b[39;00m:\n\u001b[1;32m    281\u001b[0m     masked[floor_batch \u001b[38;5;241m==\u001b[39m \u001b[38;5;241m0\u001b[39m] \u001b[38;5;241m=\u001b[39m \u001b[38;5;241m0\u001b[39m\n",
      "\u001b[0;31mRuntimeError\u001b[0m: The expanded size of the tensor (256) must match the existing size (0) at non-singleton dimension 3.  Target sizes: [0, 1, 256, 256].  Tensor sizes: [0]"
     ]
    },
    {
     "data": {
      "image/png": "[encoded data removed]",
      "text/plain": [
       "<Figure size 1600x400 with 16 Axes>"
      ]
     },
     "metadata": {},
     "output_type": "display_data"
    }
   ],
   "source": [
    "configuration = Configuration()\n",
    "\n",
    "configuration.TRAIN_SIZE = 1.0\n",
    "configuration.VALIDATION_SIZE = 0.0\n",
    "configuration.TEST_SIZE = 0.0\n",
    "\n",
    "plan_dataset = PlanDataset(configuration=configuration, use_transform=False)\n",
    "plan_generator = PlanGenerator(configuration=configuration)\n",
    "\n",
    "plan_generator_trainer = PlanGeneratorTrainer(\n",
    "    configuration=configuration,\n",
    "    plan_generator=plan_generator,\n",
    "    plan_dataset=plan_dataset,\n",
    "    validating=False,\n",
    ")\n",
    "\n",
    "plan_generator_trainer.fit()"
   ]
  }
 ],
 "metadata": {
  "kernelspec": {
   "display_name": "Python 3",
   "language": "python",
   "name": "python3"
  },
  "language_info": {
   "codemirror_mode": {
    "name": "ipython",
    "version": 3
   },
   "file_extension": ".py",
   "mimetype": "text/x-python",
   "name": "python",
   "nbconvert_exporter": "python",
   "pygments_lexer": "ipython3",
   "version": "3.10.12"
  }
 },
 "nbformat": 4,
 "nbformat_minor": 2
}
