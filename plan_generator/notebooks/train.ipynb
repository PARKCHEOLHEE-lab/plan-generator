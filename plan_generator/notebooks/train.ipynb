{
 "cells": [
  {
   "cell_type": "code",
   "execution_count": 1,
   "metadata": {},
   "outputs": [],
   "source": [
    "import os\n",
    "import sys\n",
    "\n",
    "os.environ[\"CUDA_VISIBLE_DEVICES\"] = \"0\"\n",
    " \n",
    "if os.path.abspath(os.path.join(os.getcwd(), \"../../\")) not in sys.path:\n",
    "    sys.path.append(os.path.abspath(os.path.join(os.getcwd(), \"../../\")))\n",
    "    \n",
    "from plan_generator.src.config import Configuration\n",
    "from plan_generator.src.models import PlanGenerator\n",
    "from plan_generator.src.data import PlanDataset\n",
    "from plan_generator.src.trainer import PlanGeneratorTrainer"
   ]
  },
  {
   "cell_type": "code",
   "execution_count": 2,
   "metadata": {},
   "outputs": [
    {
     "name": "stdout",
     "output_type": "stream",
     "text": [
      "\n",
      "                train_loader_subset_index: 0/0\n",
      "                validation_loader_subset_index: 0/0\n",
      "                \n"
     ]
    },
    {
     "name": "stderr",
     "output_type": "stream",
     "text": [
      "training...:   0%|          | 6/5049 [00:03<44:06,  1.91it/s]  \n"
     ]
    },
    {
     "ename": "KeyboardInterrupt",
     "evalue": "",
     "output_type": "error",
     "traceback": [
      "\u001b[0;31m---------------------------------------------------------------------------\u001b[0m",
      "\u001b[0;31mKeyboardInterrupt\u001b[0m                         Traceback (most recent call last)",
      "Cell \u001b[0;32mIn[2], line 17\u001b[0m\n\u001b[1;32m      8\u001b[0m plan_generator \u001b[38;5;241m=\u001b[39m PlanGenerator(configuration\u001b[38;5;241m=\u001b[39mconfiguration)\n\u001b[1;32m     10\u001b[0m plan_generator_trainer \u001b[38;5;241m=\u001b[39m PlanGeneratorTrainer(\n\u001b[1;32m     11\u001b[0m     configuration\u001b[38;5;241m=\u001b[39mconfiguration,\n\u001b[1;32m     12\u001b[0m     plan_generator\u001b[38;5;241m=\u001b[39mplan_generator,\n\u001b[1;32m     13\u001b[0m     plan_dataset\u001b[38;5;241m=\u001b[39mplan_dataset,\n\u001b[1;32m     14\u001b[0m     validating\u001b[38;5;241m=\u001b[39m\u001b[38;5;28;01mFalse\u001b[39;00m,\n\u001b[1;32m     15\u001b[0m )\n\u001b[0;32m---> 17\u001b[0m \u001b[43mplan_generator_trainer\u001b[49m\u001b[38;5;241;43m.\u001b[39;49m\u001b[43mfit\u001b[49m\u001b[43m(\u001b[49m\u001b[43m)\u001b[49m\n",
      "File \u001b[0;32m~/plan-generator/plan_generator/src/trainer.py:684\u001b[0m, in \u001b[0;36mPlanGeneratorTrainer.fit\u001b[0;34m(self)\u001b[0m\n\u001b[1;32m    674\u001b[0m \u001b[38;5;28mprint\u001b[39m(\n\u001b[1;32m    675\u001b[0m     \u001b[38;5;124mf\u001b[39m\u001b[38;5;124m\"\"\"\u001b[39m\u001b[38;5;124mepoch: \u001b[39m\u001b[38;5;132;01m{\u001b[39;00mepoch\u001b[38;5;132;01m}\u001b[39;00m\u001b[38;5;124m/\u001b[39m\u001b[38;5;132;01m{\u001b[39;00mepoch_end\u001b[38;5;132;01m}\u001b[39;00m\n\u001b[1;32m    676\u001b[0m \u001b[38;5;124m    train_loader_subset_index: \u001b[39m\u001b[38;5;132;01m{\u001b[39;00mtrain_loader_subset_index\u001b[38;5;132;01m}\u001b[39;00m\u001b[38;5;124m/\u001b[39m\u001b[38;5;132;01m{\u001b[39;00m\u001b[38;5;28mlen\u001b[39m(\u001b[38;5;28mself\u001b[39m\u001b[38;5;241m.\u001b[39mtrain_loader_subsets)\u001b[38;5;250m \u001b[39m\u001b[38;5;241m-\u001b[39m\u001b[38;5;250m \u001b[39m\u001b[38;5;241m1\u001b[39m\u001b[38;5;132;01m}\u001b[39;00m\n\u001b[0;32m   (...)\u001b[0m\n\u001b[1;32m    680\u001b[0m \u001b[38;5;124m    \u001b[39m\u001b[38;5;124m\"\"\"\u001b[39m\n\u001b[1;32m    681\u001b[0m )\n\u001b[1;32m    683\u001b[0m \u001b[38;5;66;03m# Train\u001b[39;00m\n\u001b[0;32m--> 684\u001b[0m wall_generator_loss_avg_train, room_allocator_loss_avg_train \u001b[38;5;241m=\u001b[39m \u001b[38;5;28;43mself\u001b[39;49m\u001b[38;5;241;43m.\u001b[39;49m\u001b[43m_train\u001b[49m\u001b[43m(\u001b[49m\n\u001b[1;32m    685\u001b[0m \u001b[43m    \u001b[49m\u001b[38;5;28;43mself\u001b[39;49m\u001b[38;5;241;43m.\u001b[39;49m\u001b[43mconfiguration\u001b[49m\u001b[43m,\u001b[49m\n\u001b[1;32m    686\u001b[0m \u001b[43m    \u001b[49m\u001b[38;5;28;43mself\u001b[39;49m\u001b[38;5;241;43m.\u001b[39;49m\u001b[43mplan_generator\u001b[49m\u001b[43m,\u001b[49m\n\u001b[1;32m    687\u001b[0m \u001b[43m    \u001b[49m\u001b[38;5;28;43mself\u001b[39;49m\u001b[38;5;241;43m.\u001b[39;49m\u001b[43mwall_generator_loss_function\u001b[49m\u001b[43m,\u001b[49m\n\u001b[1;32m    688\u001b[0m \u001b[43m    \u001b[49m\u001b[38;5;28;43mself\u001b[39;49m\u001b[38;5;241;43m.\u001b[39;49m\u001b[43mroom_allocator_loss_function\u001b[49m\u001b[43m,\u001b[49m\n\u001b[1;32m    689\u001b[0m \u001b[43m    \u001b[49m\u001b[38;5;28;43mself\u001b[39;49m\u001b[38;5;241;43m.\u001b[39;49m\u001b[43mwall_generator_optimizer\u001b[49m\u001b[43m,\u001b[49m\n\u001b[1;32m    690\u001b[0m \u001b[43m    \u001b[49m\u001b[38;5;28;43mself\u001b[39;49m\u001b[38;5;241;43m.\u001b[39;49m\u001b[43mroom_allocator_optimizer\u001b[49m\u001b[43m,\u001b[49m\n\u001b[1;32m    691\u001b[0m \u001b[43m    \u001b[49m\u001b[43mtrain_loader_subset\u001b[49m\u001b[43m,\u001b[49m\n\u001b[1;32m    692\u001b[0m \u001b[43m\u001b[49m\u001b[43m)\u001b[49m\n\u001b[1;32m    694\u001b[0m \u001b[38;5;28;01mif\u001b[39;00m \u001b[38;5;28mself\u001b[39m\u001b[38;5;241m.\u001b[39mvalidating:\n\u001b[1;32m    695\u001b[0m     \u001b[38;5;66;03m# Validate\u001b[39;00m\n\u001b[1;32m    696\u001b[0m     wall_generator_loss_avg_validation, room_allocator_loss_avg_validation \u001b[38;5;241m=\u001b[39m \u001b[38;5;28mself\u001b[39m\u001b[38;5;241m.\u001b[39m_validate(\n\u001b[1;32m    697\u001b[0m         \u001b[38;5;28mself\u001b[39m\u001b[38;5;241m.\u001b[39mplan_generator,\n\u001b[1;32m    698\u001b[0m         \u001b[38;5;28mself\u001b[39m\u001b[38;5;241m.\u001b[39mwall_generator_loss_function,\n\u001b[1;32m    699\u001b[0m         \u001b[38;5;28mself\u001b[39m\u001b[38;5;241m.\u001b[39mroom_allocator_loss_function,\n\u001b[1;32m    700\u001b[0m         validation_loader_subset,\n\u001b[1;32m    701\u001b[0m     )\n",
      "File \u001b[0;32m~/plan-generator/plan_generator/src/trainer.py:333\u001b[0m, in \u001b[0;36mPlanGeneratorTrainer._train\u001b[0;34m(self, configuration, plan_generator, wall_generator_loss_function, room_allocator_loss_function, wall_generator_optimizer, room_allocator_optimizer, train_loader)\u001b[0m\n\u001b[1;32m    329\u001b[0m tqdm_iterator \u001b[38;5;241m=\u001b[39m tqdm(\u001b[38;5;28menumerate\u001b[39m(train_loader), desc\u001b[38;5;241m=\u001b[39m\u001b[38;5;124m\"\u001b[39m\u001b[38;5;124mtraining...\u001b[39m\u001b[38;5;124m\"\u001b[39m, total\u001b[38;5;241m=\u001b[39m\u001b[38;5;28mlen\u001b[39m(train_loader))\n\u001b[1;32m    331\u001b[0m \u001b[38;5;28;01mfor\u001b[39;00m batch_index, (floor_batch, walls_batch, rooms_batch) \u001b[38;5;129;01min\u001b[39;00m tqdm_iterator:\n\u001b[1;32m    332\u001b[0m     \u001b[38;5;66;03m# Forward propagation\u001b[39;00m\n\u001b[0;32m--> 333\u001b[0m     generated_walls_masked, allocated_rooms_masked \u001b[38;5;241m=\u001b[39m \u001b[43mplan_generator\u001b[49m\u001b[43m(\u001b[49m\u001b[43mfloor_batch\u001b[49m\u001b[43m,\u001b[49m\u001b[43m \u001b[49m\u001b[43mwalls_batch\u001b[49m\u001b[43m,\u001b[49m\u001b[43m \u001b[49m\u001b[43mmasking\u001b[49m\u001b[38;5;241;43m=\u001b[39;49m\u001b[38;5;28;43;01mFalse\u001b[39;49;00m\u001b[43m)\u001b[49m\n\u001b[1;32m    335\u001b[0m     \u001b[38;5;66;03m# Compute wall generator loss\u001b[39;00m\n\u001b[1;32m    336\u001b[0m     wall_generator_loss \u001b[38;5;241m=\u001b[39m wall_generator_loss_function(generated_walls_masked, walls_batch)\n",
      "File \u001b[0;32m/usr/local/lib/python3.10/dist-packages/torch/nn/modules/module.py:1506\u001b[0m, in \u001b[0;36mModule._wrapped_call_impl\u001b[0;34m(self, *args, **kwargs)\u001b[0m\n\u001b[1;32m   1503\u001b[0m             tracing_state\u001b[38;5;241m.\u001b[39mpop_scope()\n\u001b[1;32m   1504\u001b[0m     \u001b[38;5;28;01mreturn\u001b[39;00m result\n\u001b[0;32m-> 1506\u001b[0m \u001b[38;5;28;01mdef\u001b[39;00m \u001b[38;5;21m_wrapped_call_impl\u001b[39m(\u001b[38;5;28mself\u001b[39m, \u001b[38;5;241m*\u001b[39margs, \u001b[38;5;241m*\u001b[39m\u001b[38;5;241m*\u001b[39mkwargs):\n\u001b[1;32m   1507\u001b[0m     \u001b[38;5;28;01mif\u001b[39;00m \u001b[38;5;28mself\u001b[39m\u001b[38;5;241m.\u001b[39m_compiled_call_impl \u001b[38;5;129;01mis\u001b[39;00m \u001b[38;5;129;01mnot\u001b[39;00m \u001b[38;5;28;01mNone\u001b[39;00m:\n\u001b[1;32m   1508\u001b[0m         \u001b[38;5;28;01mreturn\u001b[39;00m \u001b[38;5;28mself\u001b[39m\u001b[38;5;241m.\u001b[39m_compiled_call_impl(\u001b[38;5;241m*\u001b[39margs, \u001b[38;5;241m*\u001b[39m\u001b[38;5;241m*\u001b[39mkwargs)  \u001b[38;5;66;03m# type: ignore[misc]\u001b[39;00m\n",
      "\u001b[0;31mKeyboardInterrupt\u001b[0m: "
     ]
    }
   ],
   "source": [
    "configuration = Configuration()\n",
    "\n",
    "configuration.TRAIN_SIZE = 1.0\n",
    "configuration.VALIDATION_SIZE = 0.0\n",
    "configuration.TEST_SIZE = 0.0\n",
    "\n",
    "plan_dataset = PlanDataset(configuration=configuration, use_transform=False)\n",
    "plan_generator = PlanGenerator(configuration=configuration)\n",
    "\n",
    "plan_generator_trainer = PlanGeneratorTrainer(\n",
    "    configuration=configuration,\n",
    "    plan_generator=plan_generator,\n",
    "    plan_dataset=plan_dataset,\n",
    "    existing_log_dir=\"plan_generator/runs/01-09-2025__14-22-52\",\n",
    "    validating=False,\n",
    ")\n",
    "\n",
    "plan_generator_trainer.fit()"
   ]
  }
 ],
 "metadata": {
  "kernelspec": {
   "display_name": "Python 3",
   "language": "python",
   "name": "python3"
  },
  "language_info": {
   "codemirror_mode": {
    "name": "ipython",
    "version": 3
   },
   "file_extension": ".py",
   "mimetype": "text/x-python",
   "name": "python",
   "nbconvert_exporter": "python",
   "pygments_lexer": "ipython3",
   "version": "3.10.12"
  }
 },
 "nbformat": 4,
 "nbformat_minor": 2
}
