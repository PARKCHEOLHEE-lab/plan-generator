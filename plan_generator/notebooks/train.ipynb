{
 "cells": [
  {
   "cell_type": "code",
   "execution_count": 1,
   "metadata": {},
   "outputs": [],
   "source": [
    "import os\n",
    "import sys\n",
    "\n",
    "os.environ[\"CUDA_VISIBLE_DEVICES\"] = \"0\"\n",
    " \n",
    "if os.path.abspath(os.path.join(os.getcwd(), \"../../\")) not in sys.path:\n",
    "    sys.path.append(os.path.abspath(os.path.join(os.getcwd(), \"../../\")))\n",
    "    \n",
    "from plan_generator.src.config import Configuration\n",
    "from plan_generator.src.models import PlanGenerator\n",
    "from plan_generator.src.data import PlanDataset\n",
    "from plan_generator.src.trainer import PlanGeneratorTrainer"
   ]
  },
  {
   "cell_type": "code",
   "execution_count": 2,
   "metadata": {},
   "outputs": [
    {
     "name": "stdout",
     "output_type": "stream",
     "text": [
      "CUDA status\n",
      "  torch.cuda.is_available(): True\n",
      "  DEVICE: cuda \n",
      "\n",
      "Seeds status:\n",
      "  Seeds set for torch        : 777\n",
      "  Seeds set for torch on GPU : 777\n",
      "  Seeds set for numpy        : 777\n",
      "  Seeds set for random       : 777 \n",
      "\n"
     ]
    },
    {
     "name": "stderr",
     "output_type": "stream",
     "text": [
      "/usr/local/lib/python3.10/dist-packages/torch/utils/data/dataset.py:444: UserWarning: Length of split at index 1 is 0. This might result in an empty dataset.\n",
      "  warnings.warn(f\"Length of split at index {i} is 0. \"\n",
      "/usr/local/lib/python3.10/dist-packages/torch/utils/data/dataset.py:444: UserWarning: Length of split at index 2 is 0. This might result in an empty dataset.\n",
      "  warnings.warn(f\"Length of split at index {i} is 0. \"\n",
      "/usr/local/lib/python3.10/dist-packages/tqdm/auto.py:21: TqdmWarning: IProgress not found. Please update jupyter and ipywidgets. See https://ipywidgets.readthedocs.io/en/stable/user_install.html\n",
      "  from .autonotebook import tqdm as notebook_tqdm\n"
     ]
    },
    {
     "name": "stdout",
     "output_type": "stream",
     "text": [
      "\n",
      "                train_loader_subset_index: 0/0\n",
      "                validation_loader_subset_index: 0/0\n",
      "                \n"
     ]
    }
   ],
   "source": [
    "configuration = Configuration()\n",
    "\n",
    "configuration.TRAIN_SIZE = 1.0\n",
    "configuration.VALIDATION_SIZE = 0.0\n",
    "configuration.TEST_SIZE = 0.0\n",
    "\n",
    "plan_dataset = PlanDataset(configuration=configuration, use_transform=False)\n",
    "plan_generator = PlanGenerator(configuration=configuration)\n",
    "\n",
    "plan_generator_trainer = PlanGeneratorTrainer(\n",
    "    configuration=configuration,\n",
    "    plan_generator=plan_generator,\n",
    "    plan_dataset=plan_dataset,\n",
    "    validating=False,\n",
    ")\n",
    "\n",
    "plan_generator_trainer.fit()"
   ]
  }
 ],
 "metadata": {
  "kernelspec": {
   "display_name": "Python 3",
   "language": "python",
   "name": "python3"
  },
  "language_info": {
   "codemirror_mode": {
    "name": "ipython",
    "version": 3
   },
   "file_extension": ".py",
   "mimetype": "text/x-python",
   "name": "python",
   "nbconvert_exporter": "python",
   "pygments_lexer": "ipython3",
   "version": "3.10.12"
  }
 },
 "nbformat": 4,
 "nbformat_minor": 2
}
