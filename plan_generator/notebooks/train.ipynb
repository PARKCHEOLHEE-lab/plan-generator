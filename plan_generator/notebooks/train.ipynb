{
 "cells": [
  {
   "cell_type": "code",
   "execution_count": 1,
   "metadata": {},
   "outputs": [],
   "source": [
    "import os\n",
    "import sys\n",
    "import torch\n",
    "\n",
    "os.environ[\"CUDA_VISIBLE_DEVICES\"] = \"0\"\n",
    " \n",
    "if os.path.abspath(os.path.join(os.getcwd(), \"../../\")) not in sys.path:\n",
    "    sys.path.append(os.path.abspath(os.path.join(os.getcwd(), \"../../\")))\n",
    "    \n",
    "from plan_generator.src.config import Configuration\n",
    "from plan_generator.src.models import PlanGenerator\n",
    "from plan_generator.src.data import PlanDataset\n",
    "from plan_generator.src.trainer import PlanGeneratorTrainer"
   ]
  },
  {
   "cell_type": "code",
   "execution_count": null,
   "metadata": {},
   "outputs": [],
   "source": [
    "# Train the base model to learn the data distribution\n",
    "\n",
    "configuration = Configuration()\n",
    "\n",
    "configuration.TRAIN_SIZE = 1.0\n",
    "configuration.VALIDATION_SIZE = 0.0\n",
    "configuration.TEST_SIZE = 0.0\n",
    "\n",
    "plan_dataset = PlanDataset(configuration=configuration, use_transform=False)\n",
    "plan_generator = PlanGenerator(configuration=configuration)\n",
    "\n",
    "plan_generator_trainer = PlanGeneratorTrainer(\n",
    "    configuration=configuration,\n",
    "    plan_generator=plan_generator,\n",
    "    plan_dataset=plan_dataset,\n",
    "    existing_log_dir=os.path.abspath(\"plan_generator/runs/01-09-2025__15-49-24\"),\n",
    "    validating=False,\n",
    ")\n",
    "\n",
    "print(f\"Devices: {[torch.cuda.get_device_name(i) for i in range(torch.cuda.device_count())]}\")\n",
    "\n",
    "plan_generator_trainer.fit()"
   ]
  },
  {
   "cell_type": "code",
   "execution_count": null,
   "metadata": {},
   "outputs": [],
   "source": [
    "# Train the above model using augmented data\n",
    "\n",
    "configuration = Configuration()\n",
    "\n",
    "configuration.TRAIN_SIZE = 0.6\n",
    "configuration.VALIDATION_SIZE = 0.4\n",
    "configuration.TEST_SIZE = 0.0\n",
    "\n",
    "plan_dataset = PlanDataset(configuration=configuration, end=70000, use_transform=True)\n",
    "plan_generator = PlanGenerator(configuration=configuration)\n",
    "\n",
    "plan_generator_trainer = PlanGeneratorTrainer(\n",
    "    configuration=configuration,\n",
    "    plan_generator=plan_generator,\n",
    "    plan_dataset=plan_dataset,\n",
    "    existing_log_dir=os.path.abspath(\"plan_generator/runs/01-09-2025__15-49-24\"),\n",
    "    validating=True,\n",
    ")\n",
    "\n",
    "print(f\"Devices: {[torch.cuda.get_device_name(i) for i in range(torch.cuda.device_count())]}\")\n",
    "\n",
    "plan_generator_trainer.fit()"
   ]
  }
 ],
 "metadata": {
  "kernelspec": {
   "display_name": "Python 3",
   "language": "python",
   "name": "python3"
  },
  "language_info": {
   "codemirror_mode": {
    "name": "ipython",
    "version": 3
   },
   "file_extension": ".py",
   "mimetype": "text/x-python",
   "name": "python",
   "nbconvert_exporter": "python",
   "pygments_lexer": "ipython3",
   "version": "3.10.12"
  }
 },
 "nbformat": 4,
 "nbformat_minor": 2
}
