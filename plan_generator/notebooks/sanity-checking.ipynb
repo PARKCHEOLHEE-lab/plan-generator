{
 "cells": [
  {
   "cell_type": "code",
   "execution_count": 1,
   "metadata": {},
   "outputs": [],
   "source": [
    "import os\n",
    "import sys\n",
    "import cv2\n",
    "import time\n",
    "import torch\n",
    "import numpy as np\n",
    "import matplotlib.pyplot as plt\n",
    "\n",
    "from torch import nn\n",
    "from IPython.display import clear_output\n",
    "\n",
    "if os.path.abspath(os.path.join(os.getcwd(), \"../../\")) not in sys.path:\n",
    "    sys.path.append(os.path.abspath(os.path.join(os.getcwd(), \"../../\")))\n",
    "    \n",
    "from plan_generator.src.config import Configuration\n",
    "from plan_generator.src.enums import LabelsOld, LabelsNew, Colors\n",
    "from plan_generator.src.models import PlanGenerator, WallGenerator, RoomAllocator, DiceLoss\n",
    "from plan_generator.src.data import PlanDataset, PlanDataLoader\n",
    "from plan_generator.src.trainer import PlanGeneratorTrainer"
   ]
  },
  {
   "cell_type": "code",
   "execution_count": 2,
   "metadata": {},
   "outputs": [
    {
     "name": "stderr",
     "output_type": "stream",
     "text": [
      "/usr/local/lib/python3.10/dist-packages/torch/utils/data/dataset.py:444: UserWarning: Length of split at index 1 is 0. This might result in an empty dataset.\n",
      "  warnings.warn(f\"Length of split at index {i} is 0. \"\n",
      "/usr/local/lib/python3.10/dist-packages/torch/utils/data/dataset.py:444: UserWarning: Length of split at index 2 is 0. This might result in an empty dataset.\n",
      "  warnings.warn(f\"Length of split at index {i} is 0. \"\n"
     ]
    },
    {
     "name": "stdout",
     "output_type": "stream",
     "text": [
      "/root/plan-generator/plan_generator/runs/08-27-2024__12-27-19\n"
     ]
    },
    {
     "name": "stderr",
     "output_type": "stream",
     "text": [
      "training...: 0it [00:00, ?it/s]\n",
      "ERROR:tornado.general:SEND Error: Host unreachable\n"
     ]
    },
    {
     "ename": "KeyboardInterrupt",
     "evalue": "",
     "output_type": "error",
     "traceback": [
      "\u001b[0;31m---------------------------------------------------------------------------\u001b[0m",
      "\u001b[0;31mKeyboardInterrupt\u001b[0m                         Traceback (most recent call last)",
      "Cell \u001b[0;32mIn[2], line 10\u001b[0m\n\u001b[1;32m      7\u001b[0m plan_generator \u001b[38;5;241m=\u001b[39m PlanGenerator(configuration\u001b[38;5;241m=\u001b[39mconfiguration)\n\u001b[1;32m      8\u001b[0m plan_generator_trainer \u001b[38;5;241m=\u001b[39m PlanGeneratorTrainer(plan_generator\u001b[38;5;241m=\u001b[39mplan_generator, plan_dataloader\u001b[38;5;241m=\u001b[39mplan_dataloader)\n\u001b[0;32m---> 10\u001b[0m \u001b[43mplan_generator_trainer\u001b[49m\u001b[38;5;241;43m.\u001b[39;49m\u001b[43mfit\u001b[49m\u001b[43m(\u001b[49m\u001b[43m)\u001b[49m\n",
      "File \u001b[0;32m~/plan-generator/plan_generator/src/trainer.py:243\u001b[0m, in \u001b[0;36mPlanGeneratorTrainer.fit\u001b[0;34m(self)\u001b[0m\n\u001b[1;32m    239\u001b[0m room_allocator_loss_avg_validation \u001b[38;5;241m=\u001b[39m torch\u001b[38;5;241m.\u001b[39minf\n\u001b[1;32m    241\u001b[0m \u001b[38;5;28;01mfor\u001b[39;00m epoch \u001b[38;5;129;01min\u001b[39;00m \u001b[38;5;28mrange\u001b[39m(\u001b[38;5;241m1\u001b[39m, \u001b[38;5;28mself\u001b[39m\u001b[38;5;241m.\u001b[39mconfiguration\u001b[38;5;241m.\u001b[39mEPOCHS \u001b[38;5;241m+\u001b[39m \u001b[38;5;241m1\u001b[39m):\n\u001b[1;32m    242\u001b[0m     \u001b[38;5;66;03m# Train\u001b[39;00m\n\u001b[0;32m--> 243\u001b[0m     wall_generator_loss_avg_train, room_allocator_loss_avg_train \u001b[38;5;241m=\u001b[39m \u001b[38;5;28;43mself\u001b[39;49m\u001b[38;5;241;43m.\u001b[39;49m\u001b[43m_train\u001b[49m\u001b[43m(\u001b[49m\n\u001b[1;32m    244\u001b[0m \u001b[43m        \u001b[49m\u001b[38;5;28;43mself\u001b[39;49m\u001b[38;5;241;43m.\u001b[39;49m\u001b[43mconfiguration\u001b[49m\u001b[43m,\u001b[49m\n\u001b[1;32m    245\u001b[0m \u001b[43m        \u001b[49m\u001b[38;5;28;43mself\u001b[39;49m\u001b[38;5;241;43m.\u001b[39;49m\u001b[43mplan_generator\u001b[49m\u001b[43m,\u001b[49m\n\u001b[1;32m    246\u001b[0m \u001b[43m        \u001b[49m\u001b[38;5;28;43mself\u001b[39;49m\u001b[38;5;241;43m.\u001b[39;49m\u001b[43mwall_generator_loss_function\u001b[49m\u001b[43m,\u001b[49m\n\u001b[1;32m    247\u001b[0m \u001b[43m        \u001b[49m\u001b[38;5;28;43mself\u001b[39;49m\u001b[38;5;241;43m.\u001b[39;49m\u001b[43mroom_allocator_loss_function\u001b[49m\u001b[43m,\u001b[49m\n\u001b[1;32m    248\u001b[0m \u001b[43m        \u001b[49m\u001b[38;5;28;43mself\u001b[39;49m\u001b[38;5;241;43m.\u001b[39;49m\u001b[43mwall_generator_optimizer\u001b[49m\u001b[43m,\u001b[49m\n\u001b[1;32m    249\u001b[0m \u001b[43m        \u001b[49m\u001b[38;5;28;43mself\u001b[39;49m\u001b[38;5;241;43m.\u001b[39;49m\u001b[43mroom_allocator_optimizer\u001b[49m\u001b[43m,\u001b[49m\n\u001b[1;32m    250\u001b[0m \u001b[43m        \u001b[49m\u001b[38;5;28;43mself\u001b[39;49m\u001b[38;5;241;43m.\u001b[39;49m\u001b[43mtrain_loader\u001b[49m\u001b[43m,\u001b[49m\n\u001b[1;32m    251\u001b[0m \u001b[43m    \u001b[49m\u001b[43m)\u001b[49m\n\u001b[1;32m    253\u001b[0m     \u001b[38;5;28;01mif\u001b[39;00m \u001b[38;5;28mself\u001b[39m\u001b[38;5;241m.\u001b[39msanity_checking \u001b[38;5;129;01mis\u001b[39;00m \u001b[38;5;28;01mFalse\u001b[39;00m:\n\u001b[1;32m    254\u001b[0m         \u001b[38;5;66;03m# Validate\u001b[39;00m\n\u001b[1;32m    255\u001b[0m         wall_generator_loss_avg_validation, room_allocator_loss_avg_validation \u001b[38;5;241m=\u001b[39m \u001b[38;5;28mself\u001b[39m\u001b[38;5;241m.\u001b[39m_validate(\n\u001b[1;32m    256\u001b[0m             \u001b[38;5;28mself\u001b[39m\u001b[38;5;241m.\u001b[39mplan_generator,\n\u001b[1;32m    257\u001b[0m             \u001b[38;5;28mself\u001b[39m\u001b[38;5;241m.\u001b[39mwall_generator_loss_function,\n\u001b[1;32m    258\u001b[0m             \u001b[38;5;28mself\u001b[39m\u001b[38;5;241m.\u001b[39mroom_allocator_loss_function,\n\u001b[1;32m    259\u001b[0m             \u001b[38;5;28mself\u001b[39m\u001b[38;5;241m.\u001b[39mvalidation_loader,\n\u001b[1;32m    260\u001b[0m         )\n",
      "File \u001b[0;32m~/plan-generator/plan_generator/src/trainer.py:169\u001b[0m, in \u001b[0;36mPlanGeneratorTrainer._train\u001b[0;34m(self, configuration, plan_generator, wall_generator_loss_function, room_allocator_loss_function, wall_generator_optimizer, room_allocator_optimizer, train_loader)\u001b[0m\n\u001b[1;32m    166\u001b[0m         room_allocator_optimizer\u001b[38;5;241m.\u001b[39mstep()\n\u001b[1;32m    167\u001b[0m         room_allocator_optimizer\u001b[38;5;241m.\u001b[39mzero_grad()\n\u001b[0;32m--> 169\u001b[0m wall_generator_loss_avg_train \u001b[38;5;241m=\u001b[39m \u001b[43mwall_generator_loss_sum_train\u001b[49m \u001b[38;5;241m/\u001b[39m \u001b[38;5;28mlen\u001b[39m(train_loader)\n\u001b[1;32m    170\u001b[0m room_allocator_loss_avg_train \u001b[38;5;241m=\u001b[39m room_allocator_loss_sum_train \u001b[38;5;241m/\u001b[39m \u001b[38;5;28mlen\u001b[39m(train_loader)\n\u001b[1;32m    172\u001b[0m \u001b[38;5;28;01mreturn\u001b[39;00m wall_generator_loss_avg_train, room_allocator_loss_avg_train\n",
      "File \u001b[0;32m~/plan-generator/plan_generator/src/trainer.py:169\u001b[0m, in \u001b[0;36mPlanGeneratorTrainer._train\u001b[0;34m(self, configuration, plan_generator, wall_generator_loss_function, room_allocator_loss_function, wall_generator_optimizer, room_allocator_optimizer, train_loader)\u001b[0m\n\u001b[1;32m    166\u001b[0m         room_allocator_optimizer\u001b[38;5;241m.\u001b[39mstep()\n\u001b[1;32m    167\u001b[0m         room_allocator_optimizer\u001b[38;5;241m.\u001b[39mzero_grad()\n\u001b[0;32m--> 169\u001b[0m wall_generator_loss_avg_train \u001b[38;5;241m=\u001b[39m \u001b[43mwall_generator_loss_sum_train\u001b[49m \u001b[38;5;241m/\u001b[39m \u001b[38;5;28mlen\u001b[39m(train_loader)\n\u001b[1;32m    170\u001b[0m room_allocator_loss_avg_train \u001b[38;5;241m=\u001b[39m room_allocator_loss_sum_train \u001b[38;5;241m/\u001b[39m \u001b[38;5;28mlen\u001b[39m(train_loader)\n\u001b[1;32m    172\u001b[0m \u001b[38;5;28;01mreturn\u001b[39;00m wall_generator_loss_avg_train, room_allocator_loss_avg_train\n",
      "File \u001b[0;32m_pydevd_bundle/pydevd_cython.pyx:1457\u001b[0m, in \u001b[0;36m_pydevd_bundle.pydevd_cython.SafeCallWrapper.__call__\u001b[0;34m()\u001b[0m\n",
      "File \u001b[0;32m_pydevd_bundle/pydevd_cython.pyx:701\u001b[0m, in \u001b[0;36m_pydevd_bundle.pydevd_cython.PyDBFrame.trace_dispatch\u001b[0;34m()\u001b[0m\n",
      "File \u001b[0;32m_pydevd_bundle/pydevd_cython.pyx:1152\u001b[0m, in \u001b[0;36m_pydevd_bundle.pydevd_cython.PyDBFrame.trace_dispatch\u001b[0;34m()\u001b[0m\n",
      "File \u001b[0;32m_pydevd_bundle/pydevd_cython.pyx:1135\u001b[0m, in \u001b[0;36m_pydevd_bundle.pydevd_cython.PyDBFrame.trace_dispatch\u001b[0;34m()\u001b[0m\n",
      "File \u001b[0;32m_pydevd_bundle/pydevd_cython.pyx:312\u001b[0m, in \u001b[0;36m_pydevd_bundle.pydevd_cython.PyDBFrame.do_wait_suspend\u001b[0;34m()\u001b[0m\n",
      "File \u001b[0;32m/usr/local/lib/python3.10/dist-packages/debugpy/_vendored/pydevd/pydevd.py:2070\u001b[0m, in \u001b[0;36mPyDB.do_wait_suspend\u001b[0;34m(self, thread, frame, event, arg, exception_type)\u001b[0m\n\u001b[1;32m   2067\u001b[0m             from_this_thread\u001b[38;5;241m.\u001b[39mappend(frame_custom_thread_id)\n\u001b[1;32m   2069\u001b[0m     \u001b[38;5;28;01mwith\u001b[39;00m \u001b[38;5;28mself\u001b[39m\u001b[38;5;241m.\u001b[39m_threads_suspended_single_notification\u001b[38;5;241m.\u001b[39mnotify_thread_suspended(thread_id, thread, stop_reason):\n\u001b[0;32m-> 2070\u001b[0m         keep_suspended \u001b[38;5;241m=\u001b[39m \u001b[38;5;28;43mself\u001b[39;49m\u001b[38;5;241;43m.\u001b[39;49m\u001b[43m_do_wait_suspend\u001b[49m\u001b[43m(\u001b[49m\u001b[43mthread\u001b[49m\u001b[43m,\u001b[49m\u001b[43m \u001b[49m\u001b[43mframe\u001b[49m\u001b[43m,\u001b[49m\u001b[43m \u001b[49m\u001b[43mevent\u001b[49m\u001b[43m,\u001b[49m\u001b[43m \u001b[49m\u001b[43marg\u001b[49m\u001b[43m,\u001b[49m\u001b[43m \u001b[49m\u001b[43msuspend_type\u001b[49m\u001b[43m,\u001b[49m\u001b[43m \u001b[49m\u001b[43mfrom_this_thread\u001b[49m\u001b[43m,\u001b[49m\u001b[43m \u001b[49m\u001b[43mframes_tracker\u001b[49m\u001b[43m)\u001b[49m\n\u001b[1;32m   2072\u001b[0m frames_list \u001b[38;5;241m=\u001b[39m \u001b[38;5;28;01mNone\u001b[39;00m\n\u001b[1;32m   2074\u001b[0m \u001b[38;5;28;01mif\u001b[39;00m keep_suspended:\n\u001b[1;32m   2075\u001b[0m     \u001b[38;5;66;03m# This means that we should pause again after a set next statement.\u001b[39;00m\n",
      "File \u001b[0;32m/usr/local/lib/python3.10/dist-packages/debugpy/_vendored/pydevd/pydevd.py:2106\u001b[0m, in \u001b[0;36mPyDB._do_wait_suspend\u001b[0;34m(self, thread, frame, event, arg, suspend_type, from_this_thread, frames_tracker)\u001b[0m\n\u001b[1;32m   2103\u001b[0m         \u001b[38;5;28mself\u001b[39m\u001b[38;5;241m.\u001b[39m_call_input_hook()\n\u001b[1;32m   2105\u001b[0m     \u001b[38;5;28mself\u001b[39m\u001b[38;5;241m.\u001b[39mprocess_internal_commands()\n\u001b[0;32m-> 2106\u001b[0m     \u001b[43mtime\u001b[49m\u001b[38;5;241;43m.\u001b[39;49m\u001b[43msleep\u001b[49m\u001b[43m(\u001b[49m\u001b[38;5;241;43m0.01\u001b[39;49m\u001b[43m)\u001b[49m\n\u001b[1;32m   2108\u001b[0m \u001b[38;5;28mself\u001b[39m\u001b[38;5;241m.\u001b[39mcancel_async_evaluation(get_current_thread_id(thread), \u001b[38;5;28mstr\u001b[39m(\u001b[38;5;28mid\u001b[39m(frame)))\n\u001b[1;32m   2110\u001b[0m \u001b[38;5;66;03m# process any stepping instructions\u001b[39;00m\n",
      "\u001b[0;31mKeyboardInterrupt\u001b[0m: "
     ]
    }
   ],
   "source": [
    "configuration = Configuration()\n",
    "configuration.BATCH_SIZE = 1\n",
    "\n",
    "plan_dataset = PlanDataset(slicer=1)\n",
    "plan_dataloader = PlanDataLoader(plan_dataset)\n",
    "\n",
    "plan_generator = PlanGenerator(configuration=configuration)\n",
    "plan_generator_trainer = PlanGeneratorTrainer(plan_generator=plan_generator, plan_dataloader=plan_dataloader)\n",
    "\n",
    "plan_generator_trainer.fit()"
   ]
  },
  {
   "cell_type": "code",
   "execution_count": 7,
   "metadata": {},
   "outputs": [
    {
     "data": {
      "image/png": "[encoded data removed]",
      "text/plain": [
       "<Figure size 2100x700 with 4 Axes>"
      ]
     },
     "metadata": {},
     "output_type": "display_data"
    }
   ],
   "source": [
    "import cv2\n",
    "from scipy import stats\n",
    "\n",
    "channels_step = [64, 128, 256, 512, 1024]\n",
    "\n",
    "wall_generator = WallGenerator(in_channels=1, out_channels=1, channels_step=channels_step, size=256, encoder_repeat=5)\n",
    "wall_generator_loss_function = nn.BCELoss()\n",
    "wall_generator_optimizer = torch.optim.Adam(wall_generator.parameters(), lr=0.0002)\n",
    "\n",
    "room_allocator = RoomAllocator(\n",
    "    in_channels=1, \n",
    "    out_channels=LabelsNew.NUM_CLASSES.value, \n",
    "    channels_step=[64, 128, 256, 512, 768, 896, 1024], \n",
    "    size=256, \n",
    "    encoder_repeat=5\n",
    ")\n",
    "\n",
    "room_allocator_loss_function = nn.CrossEntropyLoss()\n",
    "# room_allocator_loss_function = DiceLoss(epsilon=1e-6)\n",
    "room_allocator_optimizer = torch.optim.Adam(room_allocator.parameters(), lr=0.0002)\n",
    "\n",
    "kernel = np.ones((10, 10), np.uint8) \n",
    "\n",
    "for epoch in range(1, 150 + 1):\n",
    "    for floor, walls, rooms in plan_dataloader:\n",
    "        \n",
    "        wall_generator_optimizer.zero_grad()\n",
    "        \n",
    "        generated_walls = wall_generator(floor)\n",
    "        masked_generated_walls = generated_walls.clone()\n",
    "        masked_generated_walls[floor == 0] = 0\n",
    "        \n",
    "        wall_generator_loss = wall_generator_loss_function(masked_generated_walls, walls)\n",
    "        \n",
    "        wall_generator_loss.backward()\n",
    "        wall_generator_optimizer.step()\n",
    "        \n",
    "        room_allocator_optimizer.zero_grad()\n",
    "        \n",
    "        generated_rooms = room_allocator(walls)\n",
    "        masked_generated_rooms = generated_rooms.clone()\n",
    "        masked_generated_rooms[floor.expand_as(generated_rooms) == 0] = 0\n",
    "        \n",
    "        room_allocator_loss = room_allocator_loss_function(masked_generated_rooms, rooms.squeeze(1))\n",
    "        room_allocator_loss.backward()\n",
    "        room_allocator_optimizer.step()\n",
    "        \n",
    "        walls_to_visualize = masked_generated_walls.permute(0, 2, 3, 1)\n",
    "        walls_to_visualize = (walls_to_visualize.detach().cpu().numpy() > 0.5).astype(int)\n",
    "        walls_to_visualize = np.where(walls_to_visualize == 0, 255, 0)[0]\n",
    "        walls_to_visualize = walls_to_visualize.astype(np.uint8).squeeze(-1)\n",
    "        walls_to_visualize = cv2.erode(walls_to_visualize.astype(np.uint8), kernel, iterations=1)\n",
    "        walls_to_visualize = cv2.dilate(walls_to_visualize.astype(np.uint8), kernel, iterations=1)\n",
    "        \n",
    "        rooms_to_visualize = torch.argmax(masked_generated_rooms, dim=1)\n",
    "        rooms_to_visualize = rooms_to_visualize.detach().cpu().numpy()\n",
    "        rooms_to_visualize = np.transpose(rooms_to_visualize, (1, 2, 0))\n",
    "        rooms_to_visualize = rooms_to_visualize.astype(np.uint8).squeeze(-1)\n",
    "        rooms_to_visualize = cv2.erode(rooms_to_visualize.astype(np.uint8), kernel, iterations=1)\n",
    "        rooms_to_visualize = cv2.dilate(rooms_to_visualize.astype(np.uint8), kernel, iterations=1)\n",
    "        \n",
    "        # num_labels, labels = cv2.connectedComponents(rooms_to_visualize, connectivity=4)\n",
    "        # for label in range(1, num_labels):\n",
    "        #     values = rooms_to_visualize[labels == label]\n",
    "        #     most_common = stats.mode(values).mode\n",
    "        #     rooms_to_visualize[mask] = most_common\n",
    "        \n",
    "        # Create an empty RGB image\n",
    "        rooms_channel_3 = np.zeros((rooms_to_visualize.shape[0], rooms_to_visualize.shape[1], 3), dtype=np.uint8)\n",
    "        rooms_channel_3 += Colors.WHITE.value[0]\n",
    "\n",
    "        # Map each label to its corresponding color\n",
    "        for label, color in Colors.COLOR_MAP_NEW.value.items():\n",
    "            mask = rooms_to_visualize == label\n",
    "            rooms_channel_3[:, :, 0][mask] = color[0]\n",
    "            rooms_channel_3[:, :, 1][mask] = color[1]\n",
    "            rooms_channel_3[:, :, 2][mask] = color[2]\n",
    "            \n",
    "        walls_and_rooms = rooms_channel_3.copy()\n",
    "        walls_and_rooms[:, :, 0][walls_to_visualize == 0] = Colors.BLACK.value[0]\n",
    "        walls_and_rooms[:, :, 1][walls_to_visualize == 0] = Colors.BLACK.value[1]\n",
    "        walls_and_rooms[:, :, 2][walls_to_visualize == 0] = Colors.BLACK.value[2]\n",
    "        \n",
    "        # Create to visualize the label image\n",
    "        walls_np = walls.detach().cpu().numpy().squeeze(0).squeeze(0)\n",
    "        rooms_np = rooms.detach().cpu().numpy().squeeze(0).squeeze(0)\n",
    "        \n",
    "        original_walls_and_rooms_channel_3 = np.zeros(\n",
    "            (rooms_to_visualize.shape[0], rooms_to_visualize.shape[1], 3), dtype=np.uint8\n",
    "        )\n",
    "        \n",
    "        original_walls_and_rooms_channel_3 += Colors.WHITE.value[0]\n",
    "        original_walls_and_rooms_channel_3[:, :, 0][walls_np == 1] = Colors.BLACK.value[0]\n",
    "        original_walls_and_rooms_channel_3[:, :, 1][walls_np == 1] = Colors.BLACK.value[1]\n",
    "        original_walls_and_rooms_channel_3[:, :, 2][walls_np == 1] = Colors.BLACK.value[2]\n",
    "        \n",
    "        for label, color in Colors.COLOR_MAP_NEW.value.items():\n",
    "            mask = rooms_np == label\n",
    "            original_walls_and_rooms_channel_3[:, :, 0][mask] = color[0]\n",
    "            original_walls_and_rooms_channel_3[:, :, 1][mask] = color[1]\n",
    "            original_walls_and_rooms_channel_3[:, :, 2][mask] = color[2]\n",
    "        \n",
    "        fig, axes = plt.subplots(1, 4, figsize=(21, 7))\n",
    "        ax_1, ax_2, ax_3, ax_4 = axes.flatten()\n",
    "        ax_1.imshow(walls_to_visualize, cmap=\"gray\")  # Assuming single-channel output\n",
    "        ax_1.axis('off')\n",
    "        ax_1.set_title(f\"epoch: {epoch}, loss: {wall_generator_loss.item()} \\n\", fontsize=10)\n",
    "        \n",
    "        ax_2.imshow(rooms_channel_3)\n",
    "        ax_2.axis('off')\n",
    "        ax_2.set_title(f\"epoch: {epoch}, loss: {room_allocator_loss.item()} \\n\", fontsize=10)\n",
    "        \n",
    "        ax_3.imshow(walls_and_rooms)\n",
    "        ax_3.axis('off')\n",
    "        ax_3.set_title(f\"epoch: {epoch}, loss: {room_allocator_loss.item()} \\n\", fontsize=10)\n",
    "        \n",
    "        ax_4.imshow(original_walls_and_rooms_channel_3)\n",
    "        ax_4.axis('off')\n",
    "        ax_4.set_title(f\"label \\n\", fontsize=10)\n",
    "        \n",
    "        plt.show()\n",
    "        clear_output(wait=True) \n",
    "        "
   ]
  }
 ],
 "metadata": {
  "kernelspec": {
   "display_name": "Python 3",
   "language": "python",
   "name": "python3"
  },
  "language_info": {
   "codemirror_mode": {
    "name": "ipython",
    "version": 3
   },
   "file_extension": ".py",
   "mimetype": "text/x-python",
   "name": "python",
   "nbconvert_exporter": "python",
   "pygments_lexer": "ipython3",
   "version": "3.10.12"
  }
 },
 "nbformat": 4,
 "nbformat_minor": 2
}
